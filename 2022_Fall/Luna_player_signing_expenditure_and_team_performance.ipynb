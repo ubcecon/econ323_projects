{
 "cells": [
  {
   "cell_type": "markdown",
   "id": "7e13a23b-93f5-4490-84b0-bb735829c558",
   "metadata": {
    "tags": []
   },
   "source": [
    "# ECON 323 Final Project"
   ]
  },
  {
   "cell_type": "markdown",
   "id": "4f7faa97-77e7-444d-9d73-427722b19962",
   "metadata": {},
   "source": [
    "***Correlation between players’ signing expenditure and the performance of the teams in the Spanish soccer league from the season 2009/2010 to 2018/2019.***"
   ]
  },
  {
   "cell_type": "markdown",
   "id": "d7d032f3-5a99-4c32-a455-d1f4a782ad3b",
   "metadata": {
    "jp-MarkdownHeadingCollapsed": true,
    "tags": []
   },
   "source": [
    "Sebastian Luna"
   ]
  },
  {
   "cell_type": "markdown",
   "id": "b33157e0-ed8a-4315-b5b8-1da8fe3a746e",
   "metadata": {},
   "source": [
    "# Background"
   ]
  },
  {
   "cell_type": "markdown",
   "id": "c4143107-9bea-414c-a583-6c9cacb15a15",
   "metadata": {},
   "source": [
    "Football Industry is one of the biggest and most profitable industries compared to other sports. Only the European football market was worth €28.4bn (CAD40.92bn), according to a press release by Deloitte in 2019. A value that should not be a surprise considering that during the FIFA World Cup 2018 final, 1.12 billion people watched it live (FIFA, 2018). Meanwhile, during the same year, major events like the Super Bowl LII for American Football and the Major League Baseball (MLB) Postseason reported a viewers rating of 103.4 million and 7.5 million, respectively.\n",
    "\n",
    "Each club has its own managerial and sports strategies to ensure it can achieve its goals while considering its budget or another type of constraint. Some of them, especially the wealthiest ones, are expected to compete and win all titles. On the other hand, those less affluent clubs have lower expectations, such as staying away from relegation positions. The reality of each team is different, however, all of them agree on one thing, which is they have to look for the best path to win. A way of doing so is by building the best team with the best players they can afford. This project will focus on identifying and analyzing the effects players’ signing expenditure has on the performance of the teams in the Spanish soccer league from season 2009/2010 to 2018/2019, using data provided by Transfermarkt.\n",
    "\n",
    "\n",
    "The transfer market is a free market, in which the best and most coveted talents have a high value that not all teams can afford. Therefore, it will be identified if spending high amounts on transfers correlates with better results during the period previously mentioned. More precisely, a greater expenditure in signings equals a better position in terms of total points accumulated during the ten sessions in dispute."
   ]
  },
  {
   "cell_type": "markdown",
   "id": "dfa36d57-38ce-4b65-9449-c65f11dd2499",
   "metadata": {
    "tags": []
   },
   "source": [
    "# Literature Review"
   ]
  },
  {
   "cell_type": "markdown",
   "id": "60091ddd-e89b-49af-934d-ae934f9c36cf",
   "metadata": {},
   "source": [
    "Different studies considered whether revenue disparities among clubs threaten fairness in the competitiveness in sports, Stephen Hall, Stefan Szymanski, and Andrew Zimbalist are remarkable economists in this area. In their studies, published in journals of sports economics, they used data on team payrolls in Major League Baseball between 1980 and 2000 to examine the relationship runs from payroll to performance. Then, as a comparison, data from English soccer is analyzed. According to Hall et al. (2002), there appears to be a link between player spending and the improvement of English soccer teams from 1973 to 1999. Nevertheless, if measurements of expenditure on players and player development were more precise, a causal link from player costs to performance would become stronger."
   ]
  },
  {
   "cell_type": "markdown",
   "id": "ded380e1-5640-4a80-ba81-c4429ff6471e",
   "metadata": {
    "tags": []
   },
   "source": [
    "# Hypothesis/Research"
   ]
  },
  {
   "cell_type": "markdown",
   "id": "ab2021cc-ff8d-44e4-a878-f981473047d1",
   "metadata": {},
   "source": [
    "- The teams that have spent the most will be those that will have the best sports performance.\n",
    "- F.C. Barcelona, Real Madrid, and Atletico de Madrid will be the teams that have spent the most and will have the most points in total.\n",
    "- There will be revenue disparity reflected in the ability of the wealthiest teams to invest in players compared to the less rich. This disparity will lead to a difference in the points obtained and will affect competitiveness. Ultimately, the Spanish league can be turned into one in which only the richest compete."
   ]
  },
  {
   "cell_type": "markdown",
   "id": "d02272d8-493f-4a12-8b93-a19e29704570",
   "metadata": {
    "tags": []
   },
   "source": [
    "# Datasets and Analysis"
   ]
  },
  {
   "cell_type": "markdown",
   "id": "a7d49edc-fd65-4f0d-946a-a05b6ef5f8f4",
   "metadata": {},
   "source": [
    "All modules are imported for the creation of the datasets"
   ]
  },
  {
   "cell_type": "code",
   "execution_count": 20,
   "id": "22c4c031-fbde-4f66-958d-9bf2a9ae5960",
   "metadata": {},
   "outputs": [],
   "source": [
    "import pandas as pd\n",
    "import requests\n",
    "from bs4 import BeautifulSoup\n",
    "import numpy as np\n",
    "import matplotlib.pyplot as plt\n",
    "from unicodedata import normalize\n",
    "import json\n",
    "import urllib.request\n",
    "from sklearn import linear_model\n",
    "import statsmodels.api as sm\n",
    "import seaborn as sns\n",
    "\n",
    "#You should install lxml library in order to run the code (pip3 install lxml)\n",
    "#For the elaboration of this project I used Jupyter notebook and wrote \"pip3 install lxml\" in the launcher > terminal"
   ]
  },
  {
   "cell_type": "markdown",
   "id": "72e65b97-78c2-4de1-8516-aba1194f2e84",
   "metadata": {},
   "source": [
    "Then, we obtain the data from https://www.transfermarkt.es/, a web page that has footballing information regarding transfer news, results, team performances, and other related data. "
   ]
  },
  {
   "cell_type": "code",
   "execution_count": 2,
   "id": "36cdec05-538f-4bdc-8f5f-b170e0f4fbec",
   "metadata": {},
   "outputs": [],
   "source": [
    "lista_bds=[]\n",
    "\n",
    "for x in range(11):\n",
    "    año=2009+x\n",
    "\n",
    "    my_url = \"https://www.transfermarkt.es/laliga/transfers/wettbewerb/ES1/plus/?saison_id={}&s_w=&leihe=1&intern=0&intern=1\".format(año)\n",
    "\n",
    "    headers = {'User-Agent': 'Mozilla/5.0 (Macintosh; Intel Mac OS X 10.13; rv:63.0) Gecko/20100101 Firefox/63.0'}\n",
    "\n",
    "    req = urllib.request.Request(url=my_url, headers=headers)\n",
    "\n",
    "    with urllib.request.urlopen(req) as response:\n",
    "        page_html = response.read()\n",
    "\n",
    "    soup=BeautifulSoup(page_html,\"html.parser\")\n",
    "\n",
    "    table_MN = pd.read_html(page_html)\n",
    "\n",
    "    lista_equipos=[]\n",
    "    for x in soup.find_all('h2'):\n",
    "        try:\n",
    "            lista_equipos.append(x.find_all(\"a\")[0].img[\"alt\"])\n",
    "        except:\n",
    "            pass\n",
    "\n",
    "    lista_equipos2=[]\n",
    "    altasbajas=[]\n",
    "    for x in lista_equipos[:int(len(lista_equipos)/2)]:\n",
    "        for i in range(2):\n",
    "            if i==0:\n",
    "                altasbajas.append(\"altas\")\n",
    "            else:\n",
    "                altasbajas.append(\"bajas\")\n",
    "            lista_equipos2.append(x)\n",
    "\n",
    "    equipos=table_MN[1:]\n",
    "\n",
    "    for i in range(40):\n",
    "        if equipos[i].iloc[:,0].name==\"Altas\":\n",
    "            equipos[i]=equipos[i].rename(columns={\"Altas\":\"jugador\"})\n",
    "        if equipos[i].iloc[:,0].name==\"Bajas\":\n",
    "            equipos[i]=equipos[i].rename(columns={\"Bajas\":\"jugador\"})\n",
    "        equipos[i][\"altasbajas\"]=altasbajas[i]\n",
    "        equipos[i][\"equipobase\"]=lista_equipos2[i]\n",
    "\n",
    "    bd2=pd.concat(equipos).reset_index(drop=True)\n",
    "    bd2[\"año\"]=año\n",
    "    \n",
    "    lista_bds.append(bd2)"
   ]
  },
  {
   "cell_type": "markdown",
   "id": "f11e57b6-97f7-4210-9770-8009c3841dc3",
   "metadata": {},
   "source": [
    "After we have available the datasets corresponding to the years to be evaluated, from seasons 2009 to 2019, we concatenate them and clean the variables related to costs."
   ]
  },
  {
   "cell_type": "code",
   "execution_count": 3,
   "id": "714b1a4a-4bfb-4819-9220-d0af6ba7bfc2",
   "metadata": {},
   "outputs": [],
   "source": [
    "bd3=pd.concat(lista_bds).reset_index(drop=True)\n",
    "\n",
    "bd4=bd3.loc[bd3[\"Coste\"].apply(lambda x: \"mil\" in x)].copy()\n",
    "bd4[\"Coste\"][0]\n",
    "\n",
    "def tarifa(x):\n",
    "    k=str(x)\n",
    "    if k.startswith(\"Tarifa\"):\n",
    "        k = k[19:]\n",
    "    else:\n",
    "        pass\n",
    "    \n",
    "    if \"mill\" in k:\n",
    "        return float(k[:k.index(\"mil\")-1].replace(\",\",\".\"))*1000000\n",
    "    elif k==\"-\":\n",
    "        return k\n",
    "    else:\n",
    "        return float(k[:k.index(\"mil\")-1].replace(\",\",\".\"))*1000\n",
    "    \n",
    "bd4[\"Coste\"]=bd4[\"Coste\"].apply(lambda x: tarifa(x))\n",
    "bd4[\"Valor de mercado\"]=bd4[\"Valor de mercado\"].apply(lambda x: tarifa(x))"
   ]
  },
  {
   "cell_type": "markdown",
   "id": "c5104bde-9455-42c9-a950-313cdb824cc0",
   "metadata": {},
   "source": [
    "***Analysis #1 - Total expenditure in players' signing from 2009-2019***"
   ]
  },
  {
   "cell_type": "code",
   "execution_count": 4,
   "id": "a088c60a-82ca-4a38-8f17-21bec33777c1",
   "metadata": {},
   "outputs": [
    {
     "data": {
      "text/html": [
       "<div>\n",
       "<style scoped>\n",
       "    .dataframe tbody tr th:only-of-type {\n",
       "        vertical-align: middle;\n",
       "    }\n",
       "\n",
       "    .dataframe tbody tr th {\n",
       "        vertical-align: top;\n",
       "    }\n",
       "\n",
       "    .dataframe thead th {\n",
       "        text-align: right;\n",
       "    }\n",
       "</style>\n",
       "<table border=\"1\" class=\"dataframe\">\n",
       "  <thead>\n",
       "    <tr style=\"text-align: right;\">\n",
       "      <th></th>\n",
       "      <th>equipobase</th>\n",
       "      <th>Coste</th>\n",
       "    </tr>\n",
       "  </thead>\n",
       "  <tbody>\n",
       "    <tr>\n",
       "      <th>0</th>\n",
       "      <td>FC Barcelona</td>\n",
       "      <td>1542.170</td>\n",
       "    </tr>\n",
       "    <tr>\n",
       "      <th>1</th>\n",
       "      <td>Real Madrid CF</td>\n",
       "      <td>1431.150</td>\n",
       "    </tr>\n",
       "    <tr>\n",
       "      <th>2</th>\n",
       "      <td>Atlético de Madrid</td>\n",
       "      <td>1006.195</td>\n",
       "    </tr>\n",
       "    <tr>\n",
       "      <th>3</th>\n",
       "      <td>Sevilla FC</td>\n",
       "      <td>607.380</td>\n",
       "    </tr>\n",
       "    <tr>\n",
       "      <th>4</th>\n",
       "      <td>Valencia CF</td>\n",
       "      <td>606.670</td>\n",
       "    </tr>\n",
       "    <tr>\n",
       "      <th>5</th>\n",
       "      <td>Villarreal CF</td>\n",
       "      <td>380.550</td>\n",
       "    </tr>\n",
       "    <tr>\n",
       "      <th>6</th>\n",
       "      <td>Real Betis Balompié</td>\n",
       "      <td>220.035</td>\n",
       "    </tr>\n",
       "    <tr>\n",
       "      <th>7</th>\n",
       "      <td>RCD Espanyol</td>\n",
       "      <td>153.650</td>\n",
       "    </tr>\n",
       "    <tr>\n",
       "      <th>8</th>\n",
       "      <td>Real Sociedad</td>\n",
       "      <td>151.550</td>\n",
       "    </tr>\n",
       "    <tr>\n",
       "      <th>9</th>\n",
       "      <td>Málaga CF</td>\n",
       "      <td>124.310</td>\n",
       "    </tr>\n",
       "    <tr>\n",
       "      <th>10</th>\n",
       "      <td>RC Celta de Vigo</td>\n",
       "      <td>121.550</td>\n",
       "    </tr>\n",
       "    <tr>\n",
       "      <th>11</th>\n",
       "      <td>Athletic Club</td>\n",
       "      <td>106.370</td>\n",
       "    </tr>\n",
       "    <tr>\n",
       "      <th>12</th>\n",
       "      <td>Getafe CF</td>\n",
       "      <td>97.070</td>\n",
       "    </tr>\n",
       "    <tr>\n",
       "      <th>13</th>\n",
       "      <td>Granada CF</td>\n",
       "      <td>65.833</td>\n",
       "    </tr>\n",
       "    <tr>\n",
       "      <th>14</th>\n",
       "      <td>Levante UD</td>\n",
       "      <td>61.150</td>\n",
       "    </tr>\n",
       "    <tr>\n",
       "      <th>15</th>\n",
       "      <td>SD Eibar</td>\n",
       "      <td>48.012</td>\n",
       "    </tr>\n",
       "    <tr>\n",
       "      <th>16</th>\n",
       "      <td>CD Leganés</td>\n",
       "      <td>47.300</td>\n",
       "    </tr>\n",
       "    <tr>\n",
       "      <th>17</th>\n",
       "      <td>Deportivo Alavés</td>\n",
       "      <td>40.430</td>\n",
       "    </tr>\n",
       "    <tr>\n",
       "      <th>18</th>\n",
       "      <td>Real Zaragoza</td>\n",
       "      <td>32.550</td>\n",
       "    </tr>\n",
       "    <tr>\n",
       "      <th>19</th>\n",
       "      <td>RC Deportivo de La Coruña</td>\n",
       "      <td>29.400</td>\n",
       "    </tr>\n",
       "    <tr>\n",
       "      <th>20</th>\n",
       "      <td>CA Osasuna</td>\n",
       "      <td>28.200</td>\n",
       "    </tr>\n",
       "    <tr>\n",
       "      <th>21</th>\n",
       "      <td>Real Valladolid CF</td>\n",
       "      <td>19.225</td>\n",
       "    </tr>\n",
       "    <tr>\n",
       "      <th>22</th>\n",
       "      <td>Girona FC</td>\n",
       "      <td>18.950</td>\n",
       "    </tr>\n",
       "    <tr>\n",
       "      <th>23</th>\n",
       "      <td>RCD Mallorca</td>\n",
       "      <td>15.200</td>\n",
       "    </tr>\n",
       "    <tr>\n",
       "      <th>24</th>\n",
       "      <td>Rayo Vallecano</td>\n",
       "      <td>13.540</td>\n",
       "    </tr>\n",
       "    <tr>\n",
       "      <th>25</th>\n",
       "      <td>UD Las Palmas</td>\n",
       "      <td>9.650</td>\n",
       "    </tr>\n",
       "    <tr>\n",
       "      <th>26</th>\n",
       "      <td>SD Huesca</td>\n",
       "      <td>9.300</td>\n",
       "    </tr>\n",
       "    <tr>\n",
       "      <th>27</th>\n",
       "      <td>UD Almería</td>\n",
       "      <td>8.400</td>\n",
       "    </tr>\n",
       "    <tr>\n",
       "      <th>28</th>\n",
       "      <td>Real Racing Club</td>\n",
       "      <td>8.315</td>\n",
       "    </tr>\n",
       "    <tr>\n",
       "      <th>29</th>\n",
       "      <td>Hércules CF</td>\n",
       "      <td>6.210</td>\n",
       "    </tr>\n",
       "    <tr>\n",
       "      <th>30</th>\n",
       "      <td>Real Sporting de Gijón</td>\n",
       "      <td>4.700</td>\n",
       "    </tr>\n",
       "    <tr>\n",
       "      <th>31</th>\n",
       "      <td>Elche CF</td>\n",
       "      <td>3.575</td>\n",
       "    </tr>\n",
       "    <tr>\n",
       "      <th>32</th>\n",
       "      <td>Córdoba CF</td>\n",
       "      <td>0.750</td>\n",
       "    </tr>\n",
       "    <tr>\n",
       "      <th>33</th>\n",
       "      <td>CD Tenerife</td>\n",
       "      <td>0.600</td>\n",
       "    </tr>\n",
       "    <tr>\n",
       "      <th>34</th>\n",
       "      <td>Xerez CD</td>\n",
       "      <td>0.500</td>\n",
       "    </tr>\n",
       "  </tbody>\n",
       "</table>\n",
       "</div>"
      ],
      "text/plain": [
       "                   equipobase     Coste\n",
       "0                FC Barcelona  1542.170\n",
       "1              Real Madrid CF  1431.150\n",
       "2          Atlético de Madrid  1006.195\n",
       "3                  Sevilla FC   607.380\n",
       "4                 Valencia CF   606.670\n",
       "5               Villarreal CF   380.550\n",
       "6         Real Betis Balompié   220.035\n",
       "7                RCD Espanyol   153.650\n",
       "8               Real Sociedad   151.550\n",
       "9                   Málaga CF   124.310\n",
       "10           RC Celta de Vigo   121.550\n",
       "11              Athletic Club   106.370\n",
       "12                  Getafe CF    97.070\n",
       "13                 Granada CF    65.833\n",
       "14                 Levante UD    61.150\n",
       "15                   SD Eibar    48.012\n",
       "16                 CD Leganés    47.300\n",
       "17           Deportivo Alavés    40.430\n",
       "18              Real Zaragoza    32.550\n",
       "19  RC Deportivo de La Coruña    29.400\n",
       "20                 CA Osasuna    28.200\n",
       "21         Real Valladolid CF    19.225\n",
       "22                  Girona FC    18.950\n",
       "23               RCD Mallorca    15.200\n",
       "24             Rayo Vallecano    13.540\n",
       "25              UD Las Palmas     9.650\n",
       "26                  SD Huesca     9.300\n",
       "27                 UD Almería     8.400\n",
       "28          Real Racing Club      8.315\n",
       "29                Hércules CF     6.210\n",
       "30     Real Sporting de Gijón     4.700\n",
       "31                   Elche CF     3.575\n",
       "32                 Córdoba CF     0.750\n",
       "33                CD Tenerife     0.600\n",
       "34                   Xerez CD     0.500"
      ]
     },
     "execution_count": 4,
     "metadata": {},
     "output_type": "execute_result"
    }
   ],
   "source": [
    "bd5=pd.DataFrame(bd4.groupby([\"equipobase\",\"altasbajas\"])[\"Coste\"].sum()).reset_index()\n",
    "bd6=bd5.loc[bd5[\"altasbajas\"]==\"altas\"].sort_values(by=[\"Coste\"],ascending=False)\n",
    "bd6[\"Coste\"]=bd6[\"Coste\"].apply(lambda x: x/(10**6))\n",
    "bd6.reset_index(drop=True)[[\"equipobase\",\"Coste\"]]"
   ]
  },
  {
   "cell_type": "markdown",
   "id": "98202904-18e3-4190-baa3-e07d99d6754b",
   "metadata": {},
   "source": [
    "Using the data provided by Transfermarkt, a table that collects the total spending on players’ signings of the teams in the Spanish league from 2009/2010 to the 2018/2019 season has been made. From the 34 enlisted teams, the maximum value corresponds to F.C. Barcelona with a total of 1.542 million euros, and the minimum is from Xerez CD with a total of 500K euros.\n",
    "\n",
    "Likewise, the first three teams, which are: FC Barcelona, Real Madrid CF, and Atletico de Madrid, spent more than one billion euros on signings, unlike the following 31 teams, which during that period expenses were less than one billion euros. On the other hand, the last three teams, which are: Córdoba CF, CD Tenerife, and Xerez CD, have expenses below millions of euros."
   ]
  },
  {
   "cell_type": "code",
   "execution_count": 5,
   "id": "019ebebc-ad89-44c6-a684-56ecc7d00b31",
   "metadata": {},
   "outputs": [
    {
     "data": {
      "text/html": [
       "<div>\n",
       "<style scoped>\n",
       "    .dataframe tbody tr th:only-of-type {\n",
       "        vertical-align: middle;\n",
       "    }\n",
       "\n",
       "    .dataframe tbody tr th {\n",
       "        vertical-align: top;\n",
       "    }\n",
       "\n",
       "    .dataframe thead th {\n",
       "        text-align: right;\n",
       "    }\n",
       "</style>\n",
       "<table border=\"1\" class=\"dataframe\">\n",
       "  <thead>\n",
       "    <tr style=\"text-align: right;\">\n",
       "      <th></th>\n",
       "      <th>Coste</th>\n",
       "    </tr>\n",
       "  </thead>\n",
       "  <tbody>\n",
       "    <tr>\n",
       "      <th>count</th>\n",
       "      <td>35.000000</td>\n",
       "    </tr>\n",
       "    <tr>\n",
       "      <th>mean</th>\n",
       "      <td>200.584000</td>\n",
       "    </tr>\n",
       "    <tr>\n",
       "      <th>std</th>\n",
       "      <td>386.422446</td>\n",
       "    </tr>\n",
       "    <tr>\n",
       "      <th>min</th>\n",
       "      <td>0.500000</td>\n",
       "    </tr>\n",
       "    <tr>\n",
       "      <th>25%</th>\n",
       "      <td>9.475000</td>\n",
       "    </tr>\n",
       "    <tr>\n",
       "      <th>50%</th>\n",
       "      <td>40.430000</td>\n",
       "    </tr>\n",
       "    <tr>\n",
       "      <th>75%</th>\n",
       "      <td>137.930000</td>\n",
       "    </tr>\n",
       "    <tr>\n",
       "      <th>max</th>\n",
       "      <td>1542.170000</td>\n",
       "    </tr>\n",
       "  </tbody>\n",
       "</table>\n",
       "</div>"
      ],
      "text/plain": [
       "             Coste\n",
       "count    35.000000\n",
       "mean    200.584000\n",
       "std     386.422446\n",
       "min       0.500000\n",
       "25%       9.475000\n",
       "50%      40.430000\n",
       "75%     137.930000\n",
       "max    1542.170000"
      ]
     },
     "execution_count": 5,
     "metadata": {},
     "output_type": "execute_result"
    }
   ],
   "source": [
    "bd6.reset_index(drop=True)[[\"equipobase\",\"Coste\"]].describe()"
   ]
  },
  {
   "cell_type": "markdown",
   "id": "7db0f716-94b3-43a3-bc81-0eec07e1e4cb",
   "metadata": {},
   "source": [
    "The average amount spend on players signing is 200.584 million euros, and the standard deviation is 386.422.446 million euros, as shown in the distribution graph. Atletico de Madrid's spending is three standard deviations away from the mean, and F.C. Barcelona and Real Madrid are four standard deviations from the average. The bottom three values are all one standard deviation away. The top three clubs' expenditure is far from the mean which shows their economic capacity to spend on more and better players.  Excluding those clubs with more than 600 million euros of expenditure, the average expenditure is 104 million euros, which demonstrates how the outlier data from the wealthiest clubs can shift the mean by almost double the actual average of the majority of teams."
   ]
  },
  {
   "cell_type": "code",
   "execution_count": 6,
   "id": "4e8b1c66-d9b0-4863-8ad6-a83ec1590bc0",
   "metadata": {},
   "outputs": [
    {
     "data": {
      "text/html": [
       "<div>\n",
       "<style scoped>\n",
       "    .dataframe tbody tr th:only-of-type {\n",
       "        vertical-align: middle;\n",
       "    }\n",
       "\n",
       "    .dataframe tbody tr th {\n",
       "        vertical-align: top;\n",
       "    }\n",
       "\n",
       "    .dataframe thead th {\n",
       "        text-align: right;\n",
       "    }\n",
       "</style>\n",
       "<table border=\"1\" class=\"dataframe\">\n",
       "  <thead>\n",
       "    <tr style=\"text-align: right;\">\n",
       "      <th></th>\n",
       "      <th>Coste</th>\n",
       "    </tr>\n",
       "  </thead>\n",
       "  <tbody>\n",
       "    <tr>\n",
       "      <th>count</th>\n",
       "      <td>32.000000</td>\n",
       "    </tr>\n",
       "    <tr>\n",
       "      <th>mean</th>\n",
       "      <td>95.028906</td>\n",
       "    </tr>\n",
       "    <tr>\n",
       "      <th>std</th>\n",
       "      <td>156.294137</td>\n",
       "    </tr>\n",
       "    <tr>\n",
       "      <th>min</th>\n",
       "      <td>0.500000</td>\n",
       "    </tr>\n",
       "    <tr>\n",
       "      <th>25%</th>\n",
       "      <td>9.075000</td>\n",
       "    </tr>\n",
       "    <tr>\n",
       "      <th>50%</th>\n",
       "      <td>30.975000</td>\n",
       "    </tr>\n",
       "    <tr>\n",
       "      <th>75%</th>\n",
       "      <td>110.165000</td>\n",
       "    </tr>\n",
       "    <tr>\n",
       "      <th>max</th>\n",
       "      <td>607.380000</td>\n",
       "    </tr>\n",
       "  </tbody>\n",
       "</table>\n",
       "</div>"
      ],
      "text/plain": [
       "            Coste\n",
       "count   32.000000\n",
       "mean    95.028906\n",
       "std    156.294137\n",
       "min      0.500000\n",
       "25%      9.075000\n",
       "50%     30.975000\n",
       "75%    110.165000\n",
       "max    607.380000"
      ]
     },
     "execution_count": 6,
     "metadata": {},
     "output_type": "execute_result"
    }
   ],
   "source": [
    "bd6.reset_index(drop=True)[[\"equipobase\",\"Coste\"]].loc[bd6.reset_index(drop=True)[[\"equipobase\",\"Coste\"]][\"equipobase\"].apply(lambda x: x in [\"FC Barcelona\",\"Real Madrid CF\",\"Atlético de Madrid\"])==False].describe()"
   ]
  },
  {
   "cell_type": "markdown",
   "id": "ca6456da-3bc4-451a-b023-8ea631da3ee9",
   "metadata": {},
   "source": [
    "However, if the top 3 clubs with the highest expenditure are excluded, the mean becomes significantly smaller. Once again, the outlier data from the points obtained by F.C. Barcelona, Real Madrid, and Atletico de Madrid, shifts the average points that the rest of the less wealthy and talented teams have gotten. Previously, the mean was set at 200.584 million euros but now it is 95.029 million euros, which is approximately a 105.555 million euros of difference.\n"
   ]
  },
  {
   "cell_type": "markdown",
   "id": "43365304-f71d-45ab-aaca-0bc5459cb147",
   "metadata": {},
   "source": [
    "This will be more visually clear later in normal distribution graphs.\n"
   ]
  },
  {
   "cell_type": "markdown",
   "id": "70b773a4-67f1-4e6a-9cf0-565bbceda350",
   "metadata": {},
   "source": [
    "***Analysis #2 - Total accumulated points seasons 2008/2009 - 2018/2019***"
   ]
  },
  {
   "cell_type": "markdown",
   "id": "15862876-0528-44a7-87c5-3784424d6376",
   "metadata": {},
   "source": [
    "Next, a data set containing the sum of points obtained by each team that has participated in the Spanish football league in the seasons 2009/2010 to 2018/2019, has been made. For the sake of comprehension, in the Spanish soccer league, in a football match between two teams, there are three possible results: a win, a tie, or a loss. A win awards the victorious team 3 points, a tie one for each team, and a loss gives no points to the losing team.\n",
    "\n",
    "It was decided to sum up all the points obtained by each team during this period as a direct measure of good performance within the league. In other words, the team that achieved the most points during a season will be the champion, so it is safe to say that adding up all the points will give us an idea of each team's success and failure. Titles were not taken into account because more data is wanted to demonstrate the disparity that exists in the teams' performance that participated due to the disparity in the clubs' revenue. There is only one champion and the idea is to get data from all the teams."
   ]
  },
  {
   "cell_type": "code",
   "execution_count": 7,
   "id": "3a74ba57-77e4-41f3-93c3-d7cfa5e5bfd5",
   "metadata": {},
   "outputs": [],
   "source": [
    "lista_resultados=[]\n",
    "\n",
    "for x in range(11):\n",
    "    año=2009+x\n",
    "    my_url = \"https://www.transfermarkt.es/laliga/tabelle/wettbewerb/ES1/saison_id/{}\".format(año)\n",
    "\n",
    "    headers = {'User-Agent': 'Mozilla/5.0 (Macintosh; Intel Mac OS X 10.13; rv:63.0) Gecko/20100101 Firefox/63.0'}\n",
    "\n",
    "    req = urllib.request.Request(url=my_url, headers=headers)\n",
    "\n",
    "    with urllib.request.urlopen(req) as response:\n",
    "        page_html = response.read()\n",
    "    \n",
    "    resultado=pd.read_html(page_html)\n",
    "    resultado[1][\"año\"]=año\n",
    "    lista_resultados.append(resultado[1])"
   ]
  },
  {
   "cell_type": "markdown",
   "id": "c63a321c-dd84-4bff-83cf-4e59b4eaf053",
   "metadata": {},
   "source": [
    "The next table collects and orders in ascending order the accumulated points of the clubs that have participated in the Spanish league from 2009/2010 to 2018/2019. From the 35 enlisted teams, the maximum value corresponds again to F.C. Barcelona with a total of 1010 points, and the minimum is from Cordoba CF with a total of 20 points. The top three of the table are completed by Real Madrid with 966 and Atletico Madrid with 796 points. On the contrary, the bottom three with Xerez CD with 34 and S.D. Huesca with 33 points. "
   ]
  },
  {
   "cell_type": "code",
   "execution_count": 21,
   "id": "9aa20580-28af-43c3-812a-f108912deaca",
   "metadata": {},
   "outputs": [
    {
     "data": {
      "text/html": [
       "<div>\n",
       "<style scoped>\n",
       "    .dataframe tbody tr th:only-of-type {\n",
       "        vertical-align: middle;\n",
       "    }\n",
       "\n",
       "    .dataframe tbody tr th {\n",
       "        vertical-align: top;\n",
       "    }\n",
       "\n",
       "    .dataframe thead th {\n",
       "        text-align: right;\n",
       "    }\n",
       "</style>\n",
       "<table border=\"1\" class=\"dataframe\">\n",
       "  <thead>\n",
       "    <tr style=\"text-align: right;\">\n",
       "      <th></th>\n",
       "      <th>Pto.</th>\n",
       "      <th>+/-</th>\n",
       "    </tr>\n",
       "    <tr>\n",
       "      <th>equipobase</th>\n",
       "      <th></th>\n",
       "      <th></th>\n",
       "    </tr>\n",
       "  </thead>\n",
       "  <tbody>\n",
       "    <tr>\n",
       "      <th>FC Barcelona</th>\n",
       "      <td>1010</td>\n",
       "      <td>798</td>\n",
       "    </tr>\n",
       "    <tr>\n",
       "      <th>Real Madrid CF</th>\n",
       "      <td>966</td>\n",
       "      <td>685</td>\n",
       "    </tr>\n",
       "    <tr>\n",
       "      <th>Atlético de Madrid</th>\n",
       "      <td>796</td>\n",
       "      <td>309</td>\n",
       "    </tr>\n",
       "    <tr>\n",
       "      <th>Valencia CF</th>\n",
       "      <td>671</td>\n",
       "      <td>128</td>\n",
       "    </tr>\n",
       "    <tr>\n",
       "      <th>Sevilla FC</th>\n",
       "      <td>671</td>\n",
       "      <td>112</td>\n",
       "    </tr>\n",
       "    <tr>\n",
       "      <th>Athletic Club</th>\n",
       "      <td>603</td>\n",
       "      <td>19</td>\n",
       "    </tr>\n",
       "    <tr>\n",
       "      <th>Villarreal CF</th>\n",
       "      <td>574</td>\n",
       "      <td>74</td>\n",
       "    </tr>\n",
       "    <tr>\n",
       "      <th>Real Sociedad</th>\n",
       "      <td>530</td>\n",
       "      <td>15</td>\n",
       "    </tr>\n",
       "    <tr>\n",
       "      <th>RCD Espanyol</th>\n",
       "      <td>500</td>\n",
       "      <td>-133</td>\n",
       "    </tr>\n",
       "    <tr>\n",
       "      <th>Getafe CF</th>\n",
       "      <td>479</td>\n",
       "      <td>-78</td>\n",
       "    </tr>\n",
       "    <tr>\n",
       "      <th>Málaga CF</th>\n",
       "      <td>407</td>\n",
       "      <td>-69</td>\n",
       "    </tr>\n",
       "    <tr>\n",
       "      <th>Levante UD</th>\n",
       "      <td>402</td>\n",
       "      <td>-125</td>\n",
       "    </tr>\n",
       "    <tr>\n",
       "      <th>RC Celta de Vigo</th>\n",
       "      <td>369</td>\n",
       "      <td>-63</td>\n",
       "    </tr>\n",
       "    <tr>\n",
       "      <th>Real Betis Balompié</th>\n",
       "      <td>363</td>\n",
       "      <td>-112</td>\n",
       "    </tr>\n",
       "    <tr>\n",
       "      <th>CA Osasuna</th>\n",
       "      <td>296</td>\n",
       "      <td>-136</td>\n",
       "    </tr>\n",
       "    <tr>\n",
       "      <th>Granada CF</th>\n",
       "      <td>275</td>\n",
       "      <td>-165</td>\n",
       "    </tr>\n",
       "    <tr>\n",
       "      <th>SD Eibar</th>\n",
       "      <td>272</td>\n",
       "      <td>-55</td>\n",
       "    </tr>\n",
       "    <tr>\n",
       "      <th>RC Deportivo de La Coruña</th>\n",
       "      <td>267</td>\n",
       "      <td>-150</td>\n",
       "    </tr>\n",
       "    <tr>\n",
       "      <th>Rayo Vallecano</th>\n",
       "      <td>258</td>\n",
       "      <td>-142</td>\n",
       "    </tr>\n",
       "    <tr>\n",
       "      <th>RCD Mallorca</th>\n",
       "      <td>227</td>\n",
       "      <td>-58</td>\n",
       "    </tr>\n",
       "    <tr>\n",
       "      <th>Real Valladolid CF</th>\n",
       "      <td>198</td>\n",
       "      <td>-86</td>\n",
       "    </tr>\n",
       "    <tr>\n",
       "      <th>Real Sporting de Gijón</th>\n",
       "      <td>194</td>\n",
       "      <td>-101</td>\n",
       "    </tr>\n",
       "    <tr>\n",
       "      <th>Deportivo Alavés</th>\n",
       "      <td>191</td>\n",
       "      <td>-48</td>\n",
       "    </tr>\n",
       "    <tr>\n",
       "      <th>Real Zaragoza</th>\n",
       "      <td>163</td>\n",
       "      <td>-81</td>\n",
       "    </tr>\n",
       "    <tr>\n",
       "      <th>CD Leganés</th>\n",
       "      <td>159</td>\n",
       "      <td>-63</td>\n",
       "    </tr>\n",
       "    <tr>\n",
       "      <th>UD Almería</th>\n",
       "      <td>141</td>\n",
       "      <td>-103</td>\n",
       "    </tr>\n",
       "    <tr>\n",
       "      <th>Real Racing Club</th>\n",
       "      <td>112</td>\n",
       "      <td>-67</td>\n",
       "    </tr>\n",
       "    <tr>\n",
       "      <th>UD Las Palmas</th>\n",
       "      <td>105</td>\n",
       "      <td>-79</td>\n",
       "    </tr>\n",
       "    <tr>\n",
       "      <th>Girona FC</th>\n",
       "      <td>88</td>\n",
       "      <td>-25</td>\n",
       "    </tr>\n",
       "    <tr>\n",
       "      <th>Elche CF</th>\n",
       "      <td>81</td>\n",
       "      <td>-47</td>\n",
       "    </tr>\n",
       "    <tr>\n",
       "      <th>CD Tenerife</th>\n",
       "      <td>36</td>\n",
       "      <td>-34</td>\n",
       "    </tr>\n",
       "    <tr>\n",
       "      <th>Hércules CF</th>\n",
       "      <td>35</td>\n",
       "      <td>-24</td>\n",
       "    </tr>\n",
       "    <tr>\n",
       "      <th>Xerez CD</th>\n",
       "      <td>34</td>\n",
       "      <td>-28</td>\n",
       "    </tr>\n",
       "    <tr>\n",
       "      <th>SD Huesca</th>\n",
       "      <td>33</td>\n",
       "      <td>-22</td>\n",
       "    </tr>\n",
       "    <tr>\n",
       "      <th>Córdoba CF</th>\n",
       "      <td>20</td>\n",
       "      <td>-46</td>\n",
       "    </tr>\n",
       "  </tbody>\n",
       "</table>\n",
       "</div>"
      ],
      "text/plain": [
       "                           Pto.  +/-\n",
       "equipobase                          \n",
       "FC Barcelona               1010  798\n",
       "Real Madrid CF              966  685\n",
       "Atlético de Madrid          796  309\n",
       "Valencia CF                 671  128\n",
       "Sevilla FC                  671  112\n",
       "Athletic Club               603   19\n",
       "Villarreal CF               574   74\n",
       "Real Sociedad               530   15\n",
       "RCD Espanyol                500 -133\n",
       "Getafe CF                   479  -78\n",
       "Málaga CF                   407  -69\n",
       "Levante UD                  402 -125\n",
       "RC Celta de Vigo            369  -63\n",
       "Real Betis Balompié         363 -112\n",
       "CA Osasuna                  296 -136\n",
       "Granada CF                  275 -165\n",
       "SD Eibar                    272  -55\n",
       "RC Deportivo de La Coruña   267 -150\n",
       "Rayo Vallecano              258 -142\n",
       "RCD Mallorca                227  -58\n",
       "Real Valladolid CF          198  -86\n",
       "Real Sporting de Gijón      194 -101\n",
       "Deportivo Alavés            191  -48\n",
       "Real Zaragoza               163  -81\n",
       "CD Leganés                  159  -63\n",
       "UD Almería                  141 -103\n",
       "Real Racing Club            112  -67\n",
       "UD Las Palmas               105  -79\n",
       "Girona FC                    88  -25\n",
       "Elche CF                     81  -47\n",
       "CD Tenerife                  36  -34\n",
       "Hércules CF                  35  -24\n",
       "Xerez CD                     34  -28\n",
       "SD Huesca                    33  -22\n",
       "Córdoba CF                   20  -46"
      ]
     },
     "execution_count": 21,
     "metadata": {},
     "output_type": "execute_result"
    }
   ],
   "source": [
    "resultados3.groupby([\"equipobase\"])[[\"Pto.\",\"+/-\"]].sum().sort_values(by=[\"Pto.\"],ascending=False)"
   ]
  },
  {
   "cell_type": "markdown",
   "id": "ee7731b2-00bf-4c29-8385-11db2c581bbe",
   "metadata": {},
   "source": [
    "The top 5 teams are F.C. Barcelona, Real Madrid, Atletico de Madrid, Valencia C.F., and Sevilla F.C. which not by coincidence are the same teams that were on top of the table on the spending of player signing. This observation supports the first hypothesis of the project. Those teams that have spent the most are the ones that have had the best sports performance. There is a relationship, at least during the evaluated seasons, between the teams that are less economically constrained to spend on players’ signatures and competing for the Spanish league. \n",
    "\n",
    "According to the accumulated points as a measure of sports performance that was established previously, the clubs with more points are the ones that have been more successful during the ten seasons. It is worth mentioning that the fact of being in the top 5 constantly means that the team will qualify for European championships like the UEFA Champions League or UEFA Europa League which give qualified teams a bonus for qualifying. Furthermore, a better team attracts more fans that will buy tickets and attend the stadium, sponsors, and contracts which will be translated into revenue for the club. Therefore, it makes sense that teams are interested in remaining on top of the table,  to keep getting money, and being able to manage financially the institution while being able to attract and sign the best players available. A further study on the sources of revenue of the top 5 teams should be made, but at least it can be noticed that clubs feed from money that arises from sports success, and vice versa."
   ]
  },
  {
   "cell_type": "code",
   "execution_count": 17,
   "id": "b2ae8918-70c0-47cd-a9e5-5d61096fe3f0",
   "metadata": {},
   "outputs": [
    {
     "data": {
      "text/html": [
       "<div>\n",
       "<style scoped>\n",
       "    .dataframe tbody tr th:only-of-type {\n",
       "        vertical-align: middle;\n",
       "    }\n",
       "\n",
       "    .dataframe tbody tr th {\n",
       "        vertical-align: top;\n",
       "    }\n",
       "\n",
       "    .dataframe thead th {\n",
       "        text-align: right;\n",
       "    }\n",
       "</style>\n",
       "<table border=\"1\" class=\"dataframe\">\n",
       "  <thead>\n",
       "    <tr style=\"text-align: right;\">\n",
       "      <th></th>\n",
       "      <th>Pto.</th>\n",
       "      <th>+/-</th>\n",
       "    </tr>\n",
       "  </thead>\n",
       "  <tbody>\n",
       "    <tr>\n",
       "      <th>count</th>\n",
       "      <td>35.000000</td>\n",
       "      <td>35.000000</td>\n",
       "    </tr>\n",
       "    <tr>\n",
       "      <th>mean</th>\n",
       "      <td>329.314286</td>\n",
       "      <td>0.000000</td>\n",
       "    </tr>\n",
       "    <tr>\n",
       "      <th>std</th>\n",
       "      <td>265.406766</td>\n",
       "      <td>206.630247</td>\n",
       "    </tr>\n",
       "    <tr>\n",
       "      <th>min</th>\n",
       "      <td>20.000000</td>\n",
       "      <td>-165.000000</td>\n",
       "    </tr>\n",
       "    <tr>\n",
       "      <th>25%</th>\n",
       "      <td>126.500000</td>\n",
       "      <td>-93.500000</td>\n",
       "    </tr>\n",
       "    <tr>\n",
       "      <th>50%</th>\n",
       "      <td>267.000000</td>\n",
       "      <td>-58.000000</td>\n",
       "    </tr>\n",
       "    <tr>\n",
       "      <th>75%</th>\n",
       "      <td>489.500000</td>\n",
       "      <td>-23.000000</td>\n",
       "    </tr>\n",
       "    <tr>\n",
       "      <th>max</th>\n",
       "      <td>1010.000000</td>\n",
       "      <td>798.000000</td>\n",
       "    </tr>\n",
       "  </tbody>\n",
       "</table>\n",
       "</div>"
      ],
      "text/plain": [
       "              Pto.         +/-\n",
       "count    35.000000   35.000000\n",
       "mean    329.314286    0.000000\n",
       "std     265.406766  206.630247\n",
       "min      20.000000 -165.000000\n",
       "25%     126.500000  -93.500000\n",
       "50%     267.000000  -58.000000\n",
       "75%     489.500000  -23.000000\n",
       "max    1010.000000  798.000000"
      ]
     },
     "execution_count": 17,
     "metadata": {},
     "output_type": "execute_result"
    }
   ],
   "source": [
    "resultados.groupby([\"Club.1\"])[[\"Pto.\",\"+/-\"]].sum().describe()"
   ]
  },
  {
   "cell_type": "markdown",
   "id": "f16114a9-61e4-4244-90aa-35dda90228cd",
   "metadata": {},
   "source": [
    "The average of total points collected between 2009 and 2019 is 329.31 points, with a standard deviation of 265.47. Atletico de Madrid total points is 2 standard deviations away from the mean,  FC Barcelona and Real Madrid values are between 2 and 3 standard deviations. The bottom three values are all between one and two standard deviations away. "
   ]
  },
  {
   "cell_type": "code",
   "execution_count": 18,
   "id": "09f11bb8-80cc-4762-bcb7-2ac2182033ed",
   "metadata": {},
   "outputs": [
    {
     "data": {
      "text/html": [
       "<div>\n",
       "<style scoped>\n",
       "    .dataframe tbody tr th:only-of-type {\n",
       "        vertical-align: middle;\n",
       "    }\n",
       "\n",
       "    .dataframe tbody tr th {\n",
       "        vertical-align: top;\n",
       "    }\n",
       "\n",
       "    .dataframe thead th {\n",
       "        text-align: right;\n",
       "    }\n",
       "</style>\n",
       "<table border=\"1\" class=\"dataframe\">\n",
       "  <thead>\n",
       "    <tr style=\"text-align: right;\">\n",
       "      <th></th>\n",
       "      <th>Pto.</th>\n",
       "      <th>+/-</th>\n",
       "    </tr>\n",
       "  </thead>\n",
       "  <tbody>\n",
       "    <tr>\n",
       "      <th>count</th>\n",
       "      <td>32.000000</td>\n",
       "      <td>32.000000</td>\n",
       "    </tr>\n",
       "    <tr>\n",
       "      <th>mean</th>\n",
       "      <td>273.562500</td>\n",
       "      <td>-56.000000</td>\n",
       "    </tr>\n",
       "    <tr>\n",
       "      <th>std</th>\n",
       "      <td>197.486127</td>\n",
       "      <td>69.515373</td>\n",
       "    </tr>\n",
       "    <tr>\n",
       "      <th>min</th>\n",
       "      <td>20.000000</td>\n",
       "      <td>-165.000000</td>\n",
       "    </tr>\n",
       "    <tr>\n",
       "      <th>25%</th>\n",
       "      <td>110.250000</td>\n",
       "      <td>-101.500000</td>\n",
       "    </tr>\n",
       "    <tr>\n",
       "      <th>50%</th>\n",
       "      <td>242.500000</td>\n",
       "      <td>-63.000000</td>\n",
       "    </tr>\n",
       "    <tr>\n",
       "      <th>75%</th>\n",
       "      <td>403.250000</td>\n",
       "      <td>-27.250000</td>\n",
       "    </tr>\n",
       "    <tr>\n",
       "      <th>max</th>\n",
       "      <td>671.000000</td>\n",
       "      <td>128.000000</td>\n",
       "    </tr>\n",
       "  </tbody>\n",
       "</table>\n",
       "</div>"
      ],
      "text/plain": [
       "             Pto.         +/-\n",
       "count   32.000000   32.000000\n",
       "mean   273.562500  -56.000000\n",
       "std    197.486127   69.515373\n",
       "min     20.000000 -165.000000\n",
       "25%    110.250000 -101.500000\n",
       "50%    242.500000  -63.000000\n",
       "75%    403.250000  -27.250000\n",
       "max    671.000000  128.000000"
      ]
     },
     "execution_count": 18,
     "metadata": {},
     "output_type": "execute_result"
    }
   ],
   "source": [
    "resultados.loc[resultados[\"Club.1\"].apply(lambda x: x in [\"Atlético de Madrid\",\"FC Barcelona\",\"Real Madrid CF\"])==False].groupby([\"Club.1\"])[[\"Pto.\",\"+/-\"]].sum().describe()"
   ]
  },
  {
   "cell_type": "markdown",
   "id": "8b2c53fc-5526-4c33-a498-28b3af141815",
   "metadata": {},
   "source": [
    "The top 3 clubs with the most points are excluded, the mean becomes significantly smaller. Once again, the outlier data from the points obtained by F.C. Barcelona, Real Madrid, and Atletico de Madrid, shifts the average points that the rest of teams have gotten. Previously, the mean was set at 329.31, but now it is 273.56, which is 55.75 points of difference. Which are a lot of points, just for reference, in the last Spanish league evaluated (2018-2019), having 55 would have been enough for a team to be in the seventh position and classify to the Europa League.\n"
   ]
  },
  {
   "cell_type": "markdown",
   "id": "461e7b21-33ce-47f1-9d2d-5cfb1e78e73c",
   "metadata": {},
   "source": [
    "***Analysis using Distribution Graphs and Regression***"
   ]
  },
  {
   "cell_type": "markdown",
   "id": "c2dc08ef-60e2-4708-aae0-a9727e370238",
   "metadata": {},
   "source": [
    "Then, we concatenate all the data sets containing the results, we change the name of the values in order to do a merge with the two datasets later."
   ]
  },
  {
   "cell_type": "code",
   "execution_count": 11,
   "id": "08fe322c-fd37-49e2-b85c-0d2f2fb8a708",
   "metadata": {},
   "outputs": [],
   "source": [
    "nombresc={\"Club.1\":{\n",
    "\"Athletic\":\"Athletic Club\",\n",
    "'Atlético Madrid':'Atlético de Madrid',\n",
    "'Dep. Alavés':'Deportivo Alavés',\n",
    "'Getafe':'Getafe CF',\n",
    "'RC Celta':'RC Celta de Vigo',\n",
    "'RC Deportivo':'RC Deportivo de La Coruña',\n",
    "'Racing':'Real Racing Club ',\n",
    "'Real Betis':'Real Betis Balompié',\n",
    "'Real Madrid':'Real Madrid CF',\n",
    "'Real Sporting':'Real Sporting de Gijón',\n",
    "'Real Valladolid':'Real Valladolid CF'}}\n",
    "\n",
    "resultados=pd.concat(lista_resultados).reset_index(drop=True).replace(nombresc)\n",
    "\n",
    "resultados2=pd.DataFrame(resultados.groupby([\"Club.1\",\"año\"])[[\"Pto.\",\"+/-\"]].sum()).reset_index()\n",
    "\n",
    "resultados3=resultados2.rename(columns={\"Club.1\":\"equipobase\"})"
   ]
  },
  {
   "cell_type": "code",
   "execution_count": 12,
   "id": "15ef2c40-fbff-4ac4-9c7b-4a6260ff6c20",
   "metadata": {},
   "outputs": [],
   "source": [
    "bd5=pd.DataFrame(bd4.groupby([\"equipobase\",\"altasbajas\"])[\"Coste\"].sum()).reset_index()\n",
    "bd6=bd5.loc[bd5[\"altasbajas\"]==\"altas\"].copy()\n",
    "bd6[\"Coste\"]=bd6[\"Coste\"].apply(lambda x: x/(10**6))\n",
    "\n",
    "bd7=bd5.loc[bd5[\"altasbajas\"]==\"bajas\"].sort_values(by=[\"Coste\"],ascending=False)\n",
    "bd7[\"Coste\"]=bd7[\"Coste\"].apply(lambda x: x/(10**6))\n",
    "\n",
    "bd8=bd6.merge(bd7,how=\"inner\",on=\"equipobase\")[[\"equipobase\",\"Coste_x\",\"Coste_y\"]].rename(columns={\"Coste_x\":\"Gasto\",\"Coste_y\":\"Ingreso\"})\n",
    "bd8[\"Balance\"]=bd8[\"Ingreso\"]-bd8[\"Gasto\"]\n",
    "bd9=bd8[bd8[\"equipobase\"].apply(lambda x: x in [\"Atlético de Madrid\",\"FC Barcelona\",\"Real Madrid CF\",\"Valencia CF\",\"Sevilla FC\"])==False]"
   ]
  },
  {
   "cell_type": "code",
   "execution_count": 13,
   "id": "7683c8c8-a5ed-4b77-994c-8c56c6193c59",
   "metadata": {},
   "outputs": [
    {
     "name": "stderr",
     "output_type": "stream",
     "text": [
      "/opt/conda/lib/python3.10/site-packages/seaborn/distributions.py:2619: FutureWarning: `distplot` is a deprecated function and will be removed in a future version. Please adapt your code to use either `displot` (a figure-level function with similar flexibility) or `histplot` (an axes-level function for histograms).\n",
      "  warnings.warn(msg, FutureWarning)\n"
     ]
    },
    {
     "data": {
      "text/plain": [
       "<AxesSubplot:xlabel='Gasto', ylabel='Density'>"
      ]
     },
     "execution_count": 13,
     "metadata": {},
     "output_type": "execute_result"
    },
    {
     "data": {
      "image/png": "[encoded data removed]",
      "text/plain": [
       "<Figure size 432x288 with 1 Axes>"
      ]
     },
     "metadata": {
      "needs_background": "light"
     },
     "output_type": "display_data"
    }
   ],
   "source": [
    "sns.distplot(bd8['Gasto'], kde=True, \n",
    "             color = 'darkblue', \n",
    "             kde_kws={'linewidth': 4})"
   ]
  },
  {
   "cell_type": "code",
   "execution_count": 14,
   "id": "9f0b692b-6f04-4ccd-9d3d-08cf59199cac",
   "metadata": {},
   "outputs": [
    {
     "name": "stderr",
     "output_type": "stream",
     "text": [
      "/opt/conda/lib/python3.10/site-packages/seaborn/distributions.py:2619: FutureWarning: `distplot` is a deprecated function and will be removed in a future version. Please adapt your code to use either `displot` (a figure-level function with similar flexibility) or `histplot` (an axes-level function for histograms).\n",
      "  warnings.warn(msg, FutureWarning)\n"
     ]
    },
    {
     "data": {
      "text/plain": [
       "<AxesSubplot:xlabel='Gasto', ylabel='Density'>"
      ]
     },
     "execution_count": 14,
     "metadata": {},
     "output_type": "execute_result"
    },
    {
     "data": {
      "image/png": "[encoded data removed]",
      "text/plain": [
       "<Figure size 432x288 with 1 Axes>"
      ]
     },
     "metadata": {
      "needs_background": "light"
     },
     "output_type": "display_data"
    }
   ],
   "source": [
    "sns.distplot(bd9['Gasto'], kde=True, \n",
    "             color = 'darkblue', \n",
    "             kde_kws={'linewidth': 4})"
   ]
  },
  {
   "cell_type": "markdown",
   "id": "0a32c0f4-3a4c-4f04-a2a9-0fed50b20f3c",
   "metadata": {},
   "source": [
    "\n",
    "In the first distribution graph, the horizontal axis is the cost for transfers in millions of euros and the vertical axis is the density or the number of teams. The value 0 represents the average cost of all the teams, which was 200,584 million euros. The larger the area under the curve, the greater the number of teams that meet that specific spending level. Starting from the left to the right are those teams that have spent less than the average on transfers during the ten seasons, teams like Real Zaragoza, C.A. Osasuna, and Girona F.C., among others. The cost of the teams is increasing and the number of teams also when going to the right of the graph, reaching the peak of the graph is at the x-value of 0 that represents the average and is where a greater number of teams are close to 200,584 million euros. From here, the density drops until it reaches the lower right corners, already very far from the average, in which Atletico de Madrid, Real Madrid C.F., and F.C. Barcelona meet.\n",
    "\n",
    "Remember that at the beginning it was mentioned that these clubs were three to four standard deviations away from the average. Which graphically demonstrates the distance in terms of spending capacity that these three clubs have had compared to the others. Likewise, it is possible to demonstrate the disparity that exists for these clubs to hire better players and prepare better for the championships, which, as already seen, has led them to have better sports results. For that reason, it has been decided to zoom in on the peak of the distribution in a second graph to understand its nature without the outliers data. The result is that the distribution graph has a shorter lower upper tail (on the right) and the density of the rest of teams can be seen better. "
   ]
  },
  {
   "cell_type": "markdown",
   "id": "e52a1d16-0e3d-4e53-97f4-bae4172a6159",
   "metadata": {},
   "source": [
    "Finally, we merge the datasets of the teams expenditures on the player market and data set of the teams results, in order to perform an OLS regression to see if there is an effect of players' signing in the total accumulated points of the teams during the ten seasons evaluated."
   ]
  },
  {
   "cell_type": "code",
   "execution_count": 15,
   "id": "35f68b43-f328-4bc8-a98a-b7858ffef925",
   "metadata": {},
   "outputs": [
    {
     "name": "stderr",
     "output_type": "stream",
     "text": [
      "/opt/conda/lib/python3.10/site-packages/pandas/core/arraylike.py:397: RuntimeWarning: divide by zero encountered in log\n",
      "  result = getattr(ufunc, method)(*inputs, **kwargs)\n"
     ]
    }
   ],
   "source": [
    "bd10=pd.DataFrame(bd4.groupby([\"equipobase\",\"altasbajas\",\"año\"])[\"Coste\"].sum()).reset_index()\n",
    "bd11=bd10.loc[bd10[\"altasbajas\"]==\"altas\"].copy()\n",
    "\n",
    "bd11[\"equipotemp\"]=bd11[\"equipobase\"]+\"/\"+bd11[\"año\"].apply(lambda x: str(x))\n",
    "\n",
    "bd_1=bd3.loc[bd3[\"altasbajas\"]==\"altas\"]\n",
    "\n",
    "bd_2=pd.concat([bd_1, pd.get_dummies(bd_1[[\"Posición\"]])], axis=1)\n",
    "bd_3=bd_2.groupby([\"equipobase\",\"año\"])[list(bd_2.iloc[:,14:].columns)].sum().reset_index()\n",
    "\n",
    "bd_3[\"equipotemp\"]=bd_3[\"equipobase\"]+\"/\"+bd_3[\"año\"].apply(lambda x: str(x))\n",
    "\n",
    "resultados3[\"equipotemp\"]=resultados3[\"equipobase\"]+\"/\"+resultados3[\"año\"].apply(lambda x: str(x))\n",
    "\n",
    "resultados4=resultados3.merge(bd11[[\"equipotemp\",\"Coste\"]],how=\"left\",on=\"equipotemp\").replace(np.nan,0)\n",
    "resultados4[\"año\"]=resultados4[\"año\"].apply(lambda x: str(x))\n",
    "\n",
    "resultados5=resultados4.merge(bd_3,how=\"left\",on=\"equipotemp\").replace(np.nan,0)\n",
    "\n",
    "temp_log = np.log(resultados5[\"Coste\"])\n",
    "temp_log[temp_log==-np.inf] = 1\n",
    "temp_log[temp_log==-0] = -1\n",
    "\n",
    "resultados5[\"lncoste\"] = temp_log"
   ]
  },
  {
   "cell_type": "markdown",
   "id": "f471d4a0-e629-4120-b4e9-793ade6e02ad",
   "metadata": {},
   "source": [
    "For the following analysis, the total expenditure in players’ signing of all the teams per year data was used instead of the accumulated values for the ten seasons, as a matter of having more data that will allow the regression to be more precise. The total accumulated points are the dependent variable, and the independent variable is the natural logarithm of the total expenditure in players’ signing of all the teams per year. The control variables are the number of center-forwards and center-backs signed.\n",
    "\n",
    "The natural logarithm gives us the percentage change of the expenditure and not the expenditure. The coefficient of the cost (expenditure on players’ signing) of 37.7240 and 1.7388 shows us a positive correlation between investing in players and increased performance in terms of points per season. Conversely, the negative values of the coefficient of -1.6972 and -2.3704 let us notice the inverse correlation that exists on only focusing on signing center-forwards and center-back can actually decrease performance. The last relationship is something that was not expected at the beginning of the project but would be interesting to analyze."
   ]
  },
  {
   "cell_type": "code",
   "execution_count": 16,
   "id": "83e424db-ccd6-482a-b5d3-67def25f79a4",
   "metadata": {},
   "outputs": [
    {
     "name": "stdout",
     "output_type": "stream",
     "text": [
      "                            OLS Regression Results                            \n",
      "==============================================================================\n",
      "Dep. Variable:                   Pto.   R-squared:                       0.231\n",
      "Model:                            OLS   Adj. R-squared:                  0.220\n",
      "Method:                 Least Squares   F-statistic:                     21.58\n",
      "Date:                Thu, 15 Dec 2022   Prob (F-statistic):           2.90e-12\n",
      "Time:                        21:02:28   Log-Likelihood:                -912.77\n",
      "No. Observations:                 220   AIC:                             1834.\n",
      "Df Residuals:                     216   BIC:                             1847.\n",
      "Df Model:                           3                                         \n",
      "Covariance Type:            nonrobust                                         \n",
      "=============================================================================================\n",
      "                                coef    std err          t      P>|t|      [0.025      0.975]\n",
      "---------------------------------------------------------------------------------------------\n",
      "const                        37.7240      4.748      7.945      0.000      28.366      47.082\n",
      "lncoste                       1.7388      0.276      6.310      0.000       1.196       2.282\n",
      "Posición_Delantero centro    -1.6972      0.624     -2.721      0.007      -2.926      -0.468\n",
      "Posición_Defensa central     -2.3704      0.648     -3.657      0.000      -3.648      -1.093\n",
      "==============================================================================\n",
      "Omnibus:                       12.568   Durbin-Watson:                   1.134\n",
      "Prob(Omnibus):                  0.002   Jarque-Bera (JB):               13.725\n",
      "Skew:                           0.609   Prob(JB):                      0.00105\n",
      "Kurtosis:                       2.890   Cond. No.                         74.8\n",
      "==============================================================================\n",
      "\n",
      "Notes:\n",
      "[1] Standard Errors assume that the covariance matrix of the errors is correctly specified.\n"
     ]
    }
   ],
   "source": [
    "X = resultados5[[\"lncoste\",\"Posición_Delantero centro\",\"Posición_Defensa central\"]] # here we have 2 variables for multiple regression. If you just want to use one variable for simple linear regression, then use X = df['Interest_Rate'] for example.Alternatively, you may add additional variables within the brackets\n",
    "Y = pd.DataFrame(resultados5['Pto.'])\n",
    " \n",
    "# with sklearn\n",
    "regr = linear_model.LinearRegression()\n",
    "regr.fit(X, Y)\n",
    "\n",
    "# with statsmodels\n",
    "X = sm.add_constant(X) # adding a constant\n",
    " \n",
    "model = sm.OLS(Y, X).fit()\n",
    "predictions = model.predict(X) \n",
    " \n",
    "print_model = model.summary()\n",
    "print(print_model)"
   ]
  },
  {
   "cell_type": "markdown",
   "id": "24e7bf0a-4e41-4deb-9ba9-903db9f10f04",
   "metadata": {},
   "source": [
    "# Conclusions"
   ]
  },
  {
   "cell_type": "markdown",
   "id": "74405cf5-30b3-408f-b876-e2557543509f",
   "metadata": {},
   "source": [
    "There appears to be a link between players’ signing and the improvement in the performance of the teams that participated in the Spanish league from 2009/2010 to 2018/2019. This is the main relationship of concern of the project because this means that there is a disparity in the competitiveness of the league (some teams having way better results in terms of accumulated points) that comes from the disparity in the capacity of a few teams to hire more and better players. The project results support the second hypothesis of the project in which F.C. Barcelona, Real Madrid, and Atletico de Madrid were going to be the clubs that spent the most and had greater success, as seen in the tables. Finally, it is clear that the revenue disparity reflected in the ability of the wealthiest teams to invest in players compared to the less affluent lead to a difference in the points obtained and affects competitiveness."
   ]
  },
  {
   "cell_type": "markdown",
   "id": "85371f3b-b7c5-4a1a-bddc-60aac71b9df9",
   "metadata": {
    "tags": []
   },
   "source": [
    "# Limitations"
   ]
  },
  {
   "cell_type": "markdown",
   "id": "66821fa0-6b8b-470f-8764-a60a5345a76e",
   "metadata": {},
   "source": [
    "The lack of variables is a problem when performing the analyses, since there may be different effects that are not being considered in the main variables, as well as biases in these.\n",
    "\n",
    "- The analysis, results, and conclusions are not conclusive and can only be drawn to the period between the years 2009-2019 in Spain in the Spanish league. As studied in the paper by Stephe Hall, Stephen Szymanski, and Andrew Zimbalist, the project wanted to extrapolate the analysis of expenditure on players’ signing in league competitiveness with more updated data.\n",
    "- The causes of the existing disparity shown in this project, are not explored, therefore, this limits a deeper analysis of the topic studied."
   ]
  },
  {
   "cell_type": "markdown",
   "id": "695a4092-6d57-497d-a6e5-841a960283f0",
   "metadata": {
    "tags": []
   },
   "source": [
    "# References"
   ]
  },
  {
   "cell_type": "markdown",
   "id": "293c8de5-5e06-4a93-8d4f-ed4c59728cd8",
   "metadata": {},
   "source": [
    "- Hall, S., Szymaski, S., & Zimbalist, A. (2002). Testing Causality Between Team Performance and Payroll. The Cases of Major League Baseball and English Soccer. Journal of Sports Economics. https://journals.sagepub.com/doi/10.1177/152700250200300204\n",
    "- Tena, J., Forrest, D., & Flores, R. (2010). Impact on Competitive Balance from Allowing Foreign Players in a Sports League: Evidence from European Soccer. No. 4, 546-557. https://onlinelibrary.wiley.com/doi/abs/10.1111/j.1467-6435.2010.00487.x\n",
    "- European football market worth €28.4 billion (£25.1bn) as Premier League clubs lead the way to record revenues. (2019, May 29). Deloitte. Retrieved December 13, 2022, from https://www2.deloitte.com/uk/en/pages/press-releases/articles/european-football-market-worth-28-billion-euros-as-premier-league-clubs-lead-the-way-to-record-revenues.html\n",
    "- Picchi, A. (2018, February 25) . Super Bowl LII: Ratings for football's biggest game lowest since 2009. CBS News. https://www.cbsnews.com/news/super-bowl-lii-tv-ratings/\n",
    "- More than half the world watched record-breaking 2018 World Cup. (2018, December 21). FIFA. Retrieved December 13, 2022, from https://www.fifa.com/tournaments/mens/worldcup/2018russia/media-releases/more-than-half-the-world-watched-record-breaking-2018-world-cup\n",
    "- Hernandez, K. (2018, October 10). Ratings Roundup: 2018 MLB Postseason Sees Low Numbers in NLDS; NFL Ratings Continue to Rise. SVG. https://www.sportsvideo.org/2018/10/10/147726/"
   ]
  }
 ],
 "metadata": {
  "kernelspec": {
   "display_name": "Python 3 (ipykernel)",
   "language": "python",
   "name": "python3"
  },
  "language_info": {
   "codemirror_mode": {
    "name": "ipython",
    "version": 3
   },
   "file_extension": ".py",
   "mimetype": "text/x-python",
   "name": "python",
   "nbconvert_exporter": "python",
   "pygments_lexer": "ipython3",
   "version": "3.10.5"
  }
 },
 "nbformat": 4,
 "nbformat_minor": 5
}
